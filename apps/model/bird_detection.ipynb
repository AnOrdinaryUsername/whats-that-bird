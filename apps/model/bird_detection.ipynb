{
  "nbformat": 4,
  "nbformat_minor": 0,
  "metadata": {
    "colab": {
      "provenance": []
    },
    "kernelspec": {
      "name": "python3",
      "display_name": "Python 3"
    },
    "language_info": {
      "name": "python"
    },
    "widgets": {
      "application/vnd.jupyter.widget-state+json": {
        "08449d4575b0464c893f48fee7b4460c": {
          "model_module": "@jupyter-widgets/controls",
          "model_name": "FileUploadModel",
          "model_module_version": "1.5.0",
          "state": {
            "_counter": 1,
            "_dom_classes": [],
            "_model_module": "@jupyter-widgets/controls",
            "_model_module_version": "1.5.0",
            "_model_name": "FileUploadModel",
            "_view_count": null,
            "_view_module": "@jupyter-widgets/controls",
            "_view_module_version": "1.5.0",
            "_view_name": "FileUploadView",
            "accept": "image/*",
            "button_style": "",
            "data": [
              null
            ],
            "description": "Upload Image",
            "description_tooltip": null,
            "disabled": false,
            "error": "",
            "icon": "upload",
            "layout": "IPY_MODEL_109ce06d73f243b092b74722351bf12c",
            "metadata": [
              {
                "name": "osprey.jpg",
                "type": "image/jpeg",
                "size": 52325,
                "lastModified": 1709846170569
              }
            ],
            "multiple": false,
            "style": "IPY_MODEL_5fe3df8364794f4ab4b466cd7ded30e7"
          }
        },
        "109ce06d73f243b092b74722351bf12c": {
          "model_module": "@jupyter-widgets/base",
          "model_name": "LayoutModel",
          "model_module_version": "1.2.0",
          "state": {
            "_model_module": "@jupyter-widgets/base",
            "_model_module_version": "1.2.0",
            "_model_name": "LayoutModel",
            "_view_count": null,
            "_view_module": "@jupyter-widgets/base",
            "_view_module_version": "1.2.0",
            "_view_name": "LayoutView",
            "align_content": null,
            "align_items": null,
            "align_self": null,
            "border": null,
            "bottom": null,
            "display": null,
            "flex": null,
            "flex_flow": null,
            "grid_area": null,
            "grid_auto_columns": null,
            "grid_auto_flow": null,
            "grid_auto_rows": null,
            "grid_column": null,
            "grid_gap": null,
            "grid_row": null,
            "grid_template_areas": null,
            "grid_template_columns": null,
            "grid_template_rows": null,
            "height": null,
            "justify_content": null,
            "justify_items": null,
            "left": null,
            "margin": null,
            "max_height": null,
            "max_width": null,
            "min_height": null,
            "min_width": null,
            "object_fit": null,
            "object_position": null,
            "order": null,
            "overflow": null,
            "overflow_x": null,
            "overflow_y": null,
            "padding": null,
            "right": null,
            "top": null,
            "visibility": null,
            "width": null
          }
        },
        "5fe3df8364794f4ab4b466cd7ded30e7": {
          "model_module": "@jupyter-widgets/controls",
          "model_name": "ButtonStyleModel",
          "model_module_version": "1.5.0",
          "state": {
            "_model_module": "@jupyter-widgets/controls",
            "_model_module_version": "1.5.0",
            "_model_name": "ButtonStyleModel",
            "_view_count": null,
            "_view_module": "@jupyter-widgets/base",
            "_view_module_version": "1.2.0",
            "_view_name": "StyleView",
            "button_color": null,
            "font_weight": ""
          }
        },
        "337e5d813a43485392adfc707adb7c7c": {
          "model_module": "@jupyter-widgets/controls",
          "model_name": "HBoxModel",
          "model_module_version": "1.5.0",
          "state": {
            "_dom_classes": [],
            "_model_module": "@jupyter-widgets/controls",
            "_model_module_version": "1.5.0",
            "_model_name": "HBoxModel",
            "_view_count": null,
            "_view_module": "@jupyter-widgets/controls",
            "_view_module_version": "1.5.0",
            "_view_name": "HBoxView",
            "box_style": "",
            "children": [
              "IPY_MODEL_29d823b7ed2d40eab3f86e4f642e1bd8",
              "IPY_MODEL_c551cdebb41748f29a49966014ed28f8"
            ],
            "layout": "IPY_MODEL_cf64f1a9250643b98f7bb667f4354089"
          }
        },
        "29d823b7ed2d40eab3f86e4f642e1bd8": {
          "model_module": "@jupyter-widgets/controls",
          "model_name": "ImageModel",
          "model_module_version": "1.5.0",
          "state": {
            "_dom_classes": [],
            "_model_module": "@jupyter-widgets/controls",
            "_model_module_version": "1.5.0",
            "_model_name": "ImageModel",
            "_view_count": null,
            "_view_module": "@jupyter-widgets/controls",
            "_view_module_version": "1.5.0",
            "_view_name": "ImageView",
            "format": "png",
            "height": "",
            "layout": "IPY_MODEL_2d14cada25af430da0c02c375239b967",
            "width": ""
          }
        },
        "c551cdebb41748f29a49966014ed28f8": {
          "model_module": "@jupyter-widgets/controls",
          "model_name": "ImageModel",
          "model_module_version": "1.5.0",
          "state": {
            "_dom_classes": [],
            "_model_module": "@jupyter-widgets/controls",
            "_model_module_version": "1.5.0",
            "_model_name": "ImageModel",
            "_view_count": null,
            "_view_module": "@jupyter-widgets/controls",
            "_view_module_version": "1.5.0",
            "_view_name": "ImageView",
            "format": "png",
            "height": "",
            "layout": "IPY_MODEL_2b3341f3971742aca12751b500625c6a",
            "width": ""
          }
        },
        "cf64f1a9250643b98f7bb667f4354089": {
          "model_module": "@jupyter-widgets/base",
          "model_name": "LayoutModel",
          "model_module_version": "1.2.0",
          "state": {
            "_model_module": "@jupyter-widgets/base",
            "_model_module_version": "1.2.0",
            "_model_name": "LayoutModel",
            "_view_count": null,
            "_view_module": "@jupyter-widgets/base",
            "_view_module_version": "1.2.0",
            "_view_name": "LayoutView",
            "align_content": null,
            "align_items": null,
            "align_self": null,
            "border": null,
            "bottom": null,
            "display": null,
            "flex": null,
            "flex_flow": null,
            "grid_area": null,
            "grid_auto_columns": null,
            "grid_auto_flow": null,
            "grid_auto_rows": null,
            "grid_column": null,
            "grid_gap": null,
            "grid_row": null,
            "grid_template_areas": null,
            "grid_template_columns": null,
            "grid_template_rows": null,
            "height": null,
            "justify_content": null,
            "justify_items": null,
            "left": null,
            "margin": null,
            "max_height": null,
            "max_width": null,
            "min_height": null,
            "min_width": null,
            "object_fit": null,
            "object_position": null,
            "order": null,
            "overflow": null,
            "overflow_x": null,
            "overflow_y": null,
            "padding": null,
            "right": null,
            "top": null,
            "visibility": null,
            "width": null
          }
        },
        "2d14cada25af430da0c02c375239b967": {
          "model_module": "@jupyter-widgets/base",
          "model_name": "LayoutModel",
          "model_module_version": "1.2.0",
          "state": {
            "_model_module": "@jupyter-widgets/base",
            "_model_module_version": "1.2.0",
            "_model_name": "LayoutModel",
            "_view_count": null,
            "_view_module": "@jupyter-widgets/base",
            "_view_module_version": "1.2.0",
            "_view_name": "LayoutView",
            "align_content": null,
            "align_items": null,
            "align_self": null,
            "border": null,
            "bottom": null,
            "display": null,
            "flex": null,
            "flex_flow": null,
            "grid_area": null,
            "grid_auto_columns": null,
            "grid_auto_flow": null,
            "grid_auto_rows": null,
            "grid_column": null,
            "grid_gap": null,
            "grid_row": null,
            "grid_template_areas": null,
            "grid_template_columns": null,
            "grid_template_rows": null,
            "height": null,
            "justify_content": null,
            "justify_items": null,
            "left": null,
            "margin": null,
            "max_height": null,
            "max_width": null,
            "min_height": null,
            "min_width": null,
            "object_fit": null,
            "object_position": null,
            "order": null,
            "overflow": null,
            "overflow_x": null,
            "overflow_y": null,
            "padding": null,
            "right": null,
            "top": null,
            "visibility": null,
            "width": null
          }
        },
        "2b3341f3971742aca12751b500625c6a": {
          "model_module": "@jupyter-widgets/base",
          "model_name": "LayoutModel",
          "model_module_version": "1.2.0",
          "state": {
            "_model_module": "@jupyter-widgets/base",
            "_model_module_version": "1.2.0",
            "_model_name": "LayoutModel",
            "_view_count": null,
            "_view_module": "@jupyter-widgets/base",
            "_view_module_version": "1.2.0",
            "_view_name": "LayoutView",
            "align_content": null,
            "align_items": null,
            "align_self": null,
            "border": null,
            "bottom": null,
            "display": null,
            "flex": null,
            "flex_flow": null,
            "grid_area": null,
            "grid_auto_columns": null,
            "grid_auto_flow": null,
            "grid_auto_rows": null,
            "grid_column": null,
            "grid_gap": null,
            "grid_row": null,
            "grid_template_areas": null,
            "grid_template_columns": null,
            "grid_template_rows": null,
            "height": null,
            "justify_content": null,
            "justify_items": null,
            "left": null,
            "margin": null,
            "max_height": null,
            "max_width": null,
            "min_height": null,
            "min_width": null,
            "object_fit": null,
            "object_position": null,
            "order": null,
            "overflow": null,
            "overflow_x": null,
            "overflow_y": null,
            "padding": null,
            "right": null,
            "top": null,
            "visibility": null,
            "width": null
          }
        }
      }
    }
  },
  "cells": [
    {
      "cell_type": "markdown",
      "source": [
        "# **Detecting Birds Using YOLOV8**"
      ],
      "metadata": {
        "id": "CEKQvfa4XbjC"
      }
    },
    {
      "cell_type": "markdown",
      "source": [
        "![mallard_result.jpg](data:image/jpeg;base64,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)\n",
        "\n",
        "The goal of this project was to use a pretained Object Detection model and transfer learning to detect pictures of birds in an image. To this end, I chose the YOLOv8 model for its quality [documentation](https://docs.ultralytics.com/), ease of use, and proven results.\n",
        "\n",
        "Let me walk you through the steps I undertook."
      ],
      "metadata": {
        "id": "8xJ2bYjsXyS-"
      }
    },
    {
      "cell_type": "markdown",
      "source": [
        "## Collecting Data\n",
        "\n",
        "First, we will collect our bird images from [Flickr](https://www.flickr.com/). Flickr hosts many quality images from avid photographers, which make it a prime destination for bird pictures. We will need to access their API before we begin. You can request an API key from them [here](https://www.flickr.com/services/api/misc.api_keys.html).\n",
        "\n",
        "After you applied and acquired a key, enter your Flickr API key and secret in the quotes where it says:\n",
        "\n",
        "```python\n",
        "os.environ[\"FLICKR_API_KEY\"] = \"\"\n",
        "os.environ[\"FLICKR_SECRET\"] = \"\"\n",
        "```"
      ],
      "metadata": {
        "id": "K8fcmT6la0r3"
      }
    },
    {
      "cell_type": "markdown",
      "source": [
        "Now, let's install some dependencies to make image collection easier."
      ],
      "metadata": {
        "id": "-FQVj9nOeTMI"
      }
    },
    {
      "cell_type": "code",
      "source": [
        "!pip install \\\n",
        "flickrapi \\\n",
        "requests"
      ],
      "metadata": {
        "colab": {
          "base_uri": "https://localhost:8080/"
        },
        "id": "Y754hSR8b9Bx",
        "outputId": "ce4ba238-23e2-4722-d9f2-44620953b3a1"
      },
      "execution_count": null,
      "outputs": [
        {
          "output_type": "stream",
          "name": "stdout",
          "text": [
            "Collecting flickrapi\n",
            "  Downloading flickrapi-2.4.0-py2.py3-none-any.whl (26 kB)\n",
            "Requirement already satisfied: requests in /usr/local/lib/python3.10/dist-packages (2.31.0)\n",
            "Requirement already satisfied: six>=1.5.2 in /usr/local/lib/python3.10/dist-packages (from flickrapi) (1.16.0)\n",
            "Requirement already satisfied: requests-oauthlib>=0.4.0 in /usr/local/lib/python3.10/dist-packages (from flickrapi) (1.4.0)\n",
            "Collecting requests-toolbelt>=0.3.1 (from flickrapi)\n",
            "  Downloading requests_toolbelt-1.0.0-py2.py3-none-any.whl (54 kB)\n",
            "\u001b[2K     \u001b[90m━━━━━━━━━━━━━━━━━━━━━━━━━━━━━━━━━━━━━━━━\u001b[0m \u001b[32m54.5/54.5 kB\u001b[0m \u001b[31m2.6 MB/s\u001b[0m eta \u001b[36m0:00:00\u001b[0m\n",
            "\u001b[?25hRequirement already satisfied: charset-normalizer<4,>=2 in /usr/local/lib/python3.10/dist-packages (from requests) (3.3.2)\n",
            "Requirement already satisfied: idna<4,>=2.5 in /usr/local/lib/python3.10/dist-packages (from requests) (3.6)\n",
            "Requirement already satisfied: urllib3<3,>=1.21.1 in /usr/local/lib/python3.10/dist-packages (from requests) (2.0.7)\n",
            "Requirement already satisfied: certifi>=2017.4.17 in /usr/local/lib/python3.10/dist-packages (from requests) (2024.2.2)\n",
            "Requirement already satisfied: oauthlib>=3.0.0 in /usr/local/lib/python3.10/dist-packages (from requests-oauthlib>=0.4.0->flickrapi) (3.2.2)\n",
            "Installing collected packages: requests-toolbelt, flickrapi\n",
            "Successfully installed flickrapi-2.4.0 requests-toolbelt-1.0.0\n"
          ]
        }
      ]
    },
    {
      "cell_type": "code",
      "execution_count": null,
      "metadata": {
        "colab": {
          "base_uri": "https://localhost:8080/",
          "height": 408
        },
        "id": "GVpru4vkXYtc",
        "outputId": "2d219a0b-297b-403c-cb4f-043ef77864a9"
      },
      "outputs": [
        {
          "output_type": "stream",
          "name": "stdout",
          "text": [
            "Beginning flickr image scraping\n",
            "\n",
            "Creating Mallard directory...\n"
          ]
        },
        {
          "output_type": "error",
          "ename": "FlickrError",
          "evalue": "Error: 100: Invalid API Key (Key has invalid format)",
          "traceback": [
            "\u001b[0;31m---------------------------------------------------------------------------\u001b[0m",
            "\u001b[0;31mFlickrError\u001b[0m                               Traceback (most recent call last)",
            "\u001b[0;32m<ipython-input-2-9387c7e83f40>\u001b[0m in \u001b[0;36m<cell line: 108>\u001b[0;34m()\u001b[0m\n\u001b[1;32m    120\u001b[0m         \u001b[0mphotos\u001b[0m \u001b[0;34m=\u001b[0m \u001b[0mget_photos\u001b[0m\u001b[0;34m(\u001b[0m\u001b[0mbird\u001b[0m\u001b[0;34m)\u001b[0m\u001b[0;34m\u001b[0m\u001b[0;34m\u001b[0m\u001b[0m\n\u001b[1;32m    121\u001b[0m \u001b[0;34m\u001b[0m\u001b[0m\n\u001b[0;32m--> 122\u001b[0;31m         \u001b[0;32mfor\u001b[0m \u001b[0mi\u001b[0m\u001b[0;34m,\u001b[0m \u001b[0mphoto\u001b[0m \u001b[0;32min\u001b[0m \u001b[0menumerate\u001b[0m\u001b[0;34m(\u001b[0m\u001b[0mphotos\u001b[0m\u001b[0;34m)\u001b[0m\u001b[0;34m:\u001b[0m\u001b[0;34m\u001b[0m\u001b[0;34m\u001b[0m\u001b[0m\n\u001b[0m\u001b[1;32m    123\u001b[0m             \u001b[0;32mif\u001b[0m \u001b[0mi\u001b[0m \u001b[0;34m>=\u001b[0m \u001b[0mimages_per_species\u001b[0m\u001b[0;34m:\u001b[0m\u001b[0;34m\u001b[0m\u001b[0;34m\u001b[0m\u001b[0m\n\u001b[1;32m    124\u001b[0m                 \u001b[0;32mbreak\u001b[0m\u001b[0;34m\u001b[0m\u001b[0;34m\u001b[0m\u001b[0m\n",
            "\u001b[0;32m/usr/local/lib/python3.10/dist-packages/flickrapi/core.py\u001b[0m in \u001b[0;36mdata_walker\u001b[0;34m(self, method, searchstring, **params)\u001b[0m\n\u001b[1;32m    686\u001b[0m             LOG.debug('Calling %s(page=%i of %i, %s)' %\n\u001b[1;32m    687\u001b[0m                       (method.__name__, page, total, params))\n\u001b[0;32m--> 688\u001b[0;31m             \u001b[0mrsp\u001b[0m \u001b[0;34m=\u001b[0m \u001b[0mmethod\u001b[0m\u001b[0;34m(\u001b[0m\u001b[0mpage\u001b[0m\u001b[0;34m=\u001b[0m\u001b[0mpage\u001b[0m\u001b[0;34m,\u001b[0m \u001b[0;34m**\u001b[0m\u001b[0mparams\u001b[0m\u001b[0;34m)\u001b[0m\u001b[0;34m\u001b[0m\u001b[0;34m\u001b[0m\u001b[0m\n\u001b[0m\u001b[1;32m    689\u001b[0m \u001b[0;34m\u001b[0m\u001b[0m\n\u001b[1;32m    690\u001b[0m             \u001b[0mphotoset\u001b[0m \u001b[0;34m=\u001b[0m \u001b[0mrsp\u001b[0m\u001b[0;34m.\u001b[0m\u001b[0mgetchildren\u001b[0m\u001b[0;34m(\u001b[0m\u001b[0;34m)\u001b[0m\u001b[0;34m[\u001b[0m\u001b[0;36m0\u001b[0m\u001b[0;34m]\u001b[0m\u001b[0;34m\u001b[0m\u001b[0;34m\u001b[0m\u001b[0m\n",
            "\u001b[0;32m/usr/local/lib/python3.10/dist-packages/flickrapi/call_builder.py\u001b[0m in \u001b[0;36m__call__\u001b[0;34m(self, **kwargs)\u001b[0m\n\u001b[1;32m     36\u001b[0m \u001b[0;34m\u001b[0m\u001b[0m\n\u001b[1;32m     37\u001b[0m     \u001b[0;32mdef\u001b[0m \u001b[0m__call__\u001b[0m\u001b[0;34m(\u001b[0m\u001b[0mself\u001b[0m\u001b[0;34m,\u001b[0m \u001b[0;34m**\u001b[0m\u001b[0mkwargs\u001b[0m\u001b[0;34m)\u001b[0m\u001b[0;34m:\u001b[0m\u001b[0;34m\u001b[0m\u001b[0;34m\u001b[0m\u001b[0m\n\u001b[0;32m---> 38\u001b[0;31m         \u001b[0;32mreturn\u001b[0m \u001b[0mself\u001b[0m\u001b[0;34m.\u001b[0m\u001b[0mflickrapi_object\u001b[0m\u001b[0;34m.\u001b[0m\u001b[0mdo_flickr_call\u001b[0m\u001b[0;34m(\u001b[0m\u001b[0mself\u001b[0m\u001b[0;34m.\u001b[0m\u001b[0mmethod_name\u001b[0m\u001b[0;34m,\u001b[0m \u001b[0;34m**\u001b[0m\u001b[0mkwargs\u001b[0m\u001b[0;34m)\u001b[0m\u001b[0;34m\u001b[0m\u001b[0;34m\u001b[0m\u001b[0m\n\u001b[0m\u001b[1;32m     39\u001b[0m \u001b[0;34m\u001b[0m\u001b[0m\n\u001b[1;32m     40\u001b[0m \u001b[0;32mif\u001b[0m \u001b[0m__name__\u001b[0m \u001b[0;34m==\u001b[0m \u001b[0;34m'__main__'\u001b[0m\u001b[0;34m:\u001b[0m\u001b[0;34m\u001b[0m\u001b[0;34m\u001b[0m\u001b[0m\n",
            "\u001b[0;32m/usr/local/lib/python3.10/dist-packages/flickrapi/core.py\u001b[0m in \u001b[0;36mdo_flickr_call\u001b[0;34m(self, _method_name, timeout, **kwargs)\u001b[0m\n\u001b[1;32m    332\u001b[0m         \u001b[0mLOG\u001b[0m\u001b[0;34m.\u001b[0m\u001b[0minfo\u001b[0m\u001b[0;34m(\u001b[0m\u001b[0;34m'Calling %s'\u001b[0m\u001b[0;34m,\u001b[0m \u001b[0mdefaults\u001b[0m\u001b[0;34m)\u001b[0m\u001b[0;34m\u001b[0m\u001b[0;34m\u001b[0m\u001b[0m\n\u001b[1;32m    333\u001b[0m \u001b[0;34m\u001b[0m\u001b[0m\n\u001b[0;32m--> 334\u001b[0;31m         return self._wrap_in_parser(self._flickr_call,\n\u001b[0m\u001b[1;32m    335\u001b[0m                                     \u001b[0mparse_format\u001b[0m\u001b[0;34m=\u001b[0m\u001b[0mparams\u001b[0m\u001b[0;34m[\u001b[0m\u001b[0;34m'format'\u001b[0m\u001b[0;34m]\u001b[0m\u001b[0;34m,\u001b[0m\u001b[0;34m\u001b[0m\u001b[0;34m\u001b[0m\u001b[0m\n\u001b[1;32m    336\u001b[0m                                     \u001b[0mtimeout\u001b[0m\u001b[0;34m=\u001b[0m\u001b[0mtimeout\u001b[0m\u001b[0;34m,\u001b[0m\u001b[0;34m\u001b[0m\u001b[0;34m\u001b[0m\u001b[0m\n",
            "\u001b[0;32m/usr/local/lib/python3.10/dist-packages/flickrapi/core.py\u001b[0m in \u001b[0;36m_wrap_in_parser\u001b[0;34m(self, wrapped_method, parse_format, *args, **kwargs)\u001b[0m\n\u001b[1;32m    405\u001b[0m         \u001b[0;31m# Return the parsed data\u001b[0m\u001b[0;34m\u001b[0m\u001b[0;34m\u001b[0m\u001b[0m\n\u001b[1;32m    406\u001b[0m         \u001b[0mparser\u001b[0m \u001b[0;34m=\u001b[0m \u001b[0mrest_parsers\u001b[0m\u001b[0;34m[\u001b[0m\u001b[0mparse_format\u001b[0m\u001b[0;34m]\u001b[0m\u001b[0;34m[\u001b[0m\u001b[0;36m0\u001b[0m\u001b[0;34m]\u001b[0m\u001b[0;34m\u001b[0m\u001b[0;34m\u001b[0m\u001b[0m\n\u001b[0;32m--> 407\u001b[0;31m         \u001b[0;32mreturn\u001b[0m \u001b[0mparser\u001b[0m\u001b[0;34m(\u001b[0m\u001b[0mself\u001b[0m\u001b[0;34m,\u001b[0m \u001b[0mdata\u001b[0m\u001b[0;34m)\u001b[0m\u001b[0;34m\u001b[0m\u001b[0;34m\u001b[0m\u001b[0m\n\u001b[0m\u001b[1;32m    408\u001b[0m \u001b[0;34m\u001b[0m\u001b[0m\n\u001b[1;32m    409\u001b[0m     \u001b[0;32mdef\u001b[0m \u001b[0m_extract_upload_response_format\u001b[0m\u001b[0;34m(\u001b[0m\u001b[0mself\u001b[0m\u001b[0;34m,\u001b[0m \u001b[0mkwargs\u001b[0m\u001b[0;34m)\u001b[0m\u001b[0;34m:\u001b[0m\u001b[0;34m\u001b[0m\u001b[0;34m\u001b[0m\u001b[0m\n",
            "\u001b[0;32m/usr/local/lib/python3.10/dist-packages/flickrapi/core.py\u001b[0m in \u001b[0;36mparse_etree\u001b[0;34m(self, rest_xml)\u001b[0m\n\u001b[1;32m    295\u001b[0m         \u001b[0merr\u001b[0m \u001b[0;34m=\u001b[0m \u001b[0mrsp\u001b[0m\u001b[0;34m.\u001b[0m\u001b[0mfind\u001b[0m\u001b[0;34m(\u001b[0m\u001b[0;34m'err'\u001b[0m\u001b[0;34m)\u001b[0m\u001b[0;34m\u001b[0m\u001b[0;34m\u001b[0m\u001b[0m\n\u001b[1;32m    296\u001b[0m         \u001b[0mcode\u001b[0m \u001b[0;34m=\u001b[0m \u001b[0merr\u001b[0m\u001b[0;34m.\u001b[0m\u001b[0mattrib\u001b[0m\u001b[0;34m.\u001b[0m\u001b[0mget\u001b[0m\u001b[0;34m(\u001b[0m\u001b[0;34m'code'\u001b[0m\u001b[0;34m,\u001b[0m \u001b[0;32mNone\u001b[0m\u001b[0;34m)\u001b[0m\u001b[0;34m\u001b[0m\u001b[0;34m\u001b[0m\u001b[0m\n\u001b[0;32m--> 297\u001b[0;31m         \u001b[0;32mraise\u001b[0m \u001b[0mFlickrError\u001b[0m\u001b[0;34m(\u001b[0m\u001b[0msix\u001b[0m\u001b[0;34m.\u001b[0m\u001b[0mu\u001b[0m\u001b[0;34m(\u001b[0m\u001b[0;34m'Error: %(code)s: %(msg)s'\u001b[0m\u001b[0;34m)\u001b[0m \u001b[0;34m%\u001b[0m \u001b[0merr\u001b[0m\u001b[0;34m.\u001b[0m\u001b[0mattrib\u001b[0m\u001b[0;34m,\u001b[0m \u001b[0mcode\u001b[0m\u001b[0;34m=\u001b[0m\u001b[0mcode\u001b[0m\u001b[0;34m)\u001b[0m\u001b[0;34m\u001b[0m\u001b[0;34m\u001b[0m\u001b[0m\n\u001b[0m\u001b[1;32m    298\u001b[0m \u001b[0;34m\u001b[0m\u001b[0m\n\u001b[1;32m    299\u001b[0m     \u001b[0;32mdef\u001b[0m \u001b[0m__getattr__\u001b[0m\u001b[0;34m(\u001b[0m\u001b[0mself\u001b[0m\u001b[0;34m,\u001b[0m \u001b[0mmethod_name\u001b[0m\u001b[0;34m)\u001b[0m\u001b[0;34m:\u001b[0m\u001b[0;34m\u001b[0m\u001b[0;34m\u001b[0m\u001b[0m\n",
            "\u001b[0;31mFlickrError\u001b[0m: Error: 100: Invalid API Key (Key has invalid format)"
          ]
        }
      ],
      "source": [
        "from flickrapi import FlickrAPI\n",
        "import os\n",
        "import requests\n",
        "from typing import Generator, Any\n",
        "\n",
        "os.environ[\"FLICKR_API_KEY\"] = \"\"\n",
        "os.environ[\"FLICKR_SECRET\"] = \"\"\n",
        "\n",
        "\n",
        "birds = [\n",
        "    \"Mallard\",\n",
        "    \"American Wigeon\",\n",
        "    \"Northern Pintail\",\n",
        "    \"Northern Shoveler\",\n",
        "    \"Cinnamon Teal\",\n",
        "    \"Ring-necked duck\",\n",
        "    \"Lesser Scaup\",\n",
        "    \"Ruddy Duck\",\n",
        "    \"Pied-billed Grebe\",\n",
        "    \"American White Pelican\",\n",
        "    \"Double-crested Cormorant\",\n",
        "    \"Black-crowned Night-Heron\",\n",
        "    \"Green Heron\",\n",
        "    \"Snowy Egret\",\n",
        "    \"Great Egret\",\n",
        "    \"Great Blue Heron\",\n",
        "    \"Turkey Vulture\",\n",
        "    \"Osprey\",\n",
        "    \"Cooper’s Hawk\",\n",
        "    \"Red-shouldered Hawk\",\n",
        "    \"Red-tailed Hawk\",\n",
        "    \"American Kestrel\",\n",
        "    \"American Coot\",\n",
        "    \"Great Horned Owl\",\n",
        "    \"Anna’s Hummingbird\",\n",
        "    \"Allen’s Hummingbird\",\n",
        "    \"Belted Kingfisher\",\n",
        "    \"Northern Flicker\",\n",
        "    \"Downy Woodpecker\",\n",
        "    \"Black Phoebe\",\n",
        "    \"Western Scrub-Jay\",\n",
        "]\n",
        "\n",
        "images_per_species = 100\n",
        "\n",
        "\n",
        "class MissingEnvironmentVariable(Exception):\n",
        "    pass\n",
        "\n",
        "\n",
        "def check_env_var(var: str) -> str:\n",
        "    try:\n",
        "        env_var = os.environ[var]\n",
        "    except KeyError:\n",
        "        raise MissingEnvironmentVariable(\n",
        "            f\"Missing environment variable: {var}. \"\n",
        "            \"Make sure to add your Flickr API key and Secret to .env file. \"\n",
        "            \"See .env.example for .env format.\"\n",
        "        )\n",
        "\n",
        "    return env_var\n",
        "\n",
        "\n",
        "def get_photos(image_tag: str) -> Generator[Any, Any, None]:\n",
        "    PUBLIC_PHOTOS = 1\n",
        "    PHOTOS_ONLY = 0\n",
        "\n",
        "    api_key = check_env_var(\"FLICKR_API_KEY\")\n",
        "    secret = check_env_var(\"FLICKR_SECRET\")\n",
        "\n",
        "    flickr = FlickrAPI(api_key, secret)\n",
        "\n",
        "    \"\"\"\n",
        "    All license values according to flickr.photos.licenses.getInfo.\n",
        "    See: https://www.flickr.com/services/api/flickr.photos.licenses.getInfo.htm\n",
        "\n",
        "    <licenses>\n",
        "        <license id=\"0\" name=\"All Rights Reserved\" url=\"\" />\n",
        "        <license id=\"4\" name=\"Attribution License\" url=\"https://creativecommons.org/licenses/by/2.0/\" />\n",
        "        <license id=\"6\" name=\"Attribution-NoDerivs License\" url=\"https://creativecommons.org/licenses/by-nd/2.0/\" />\n",
        "        <license id=\"3\" name=\"Attribution-NonCommercial-NoDerivs License\" url=\"https://creativecommons.org/licenses/by-nc-nd/2.0/\" />\n",
        "        <license id=\"2\" name=\"Attribution-NonCommercial License\" url=\"https://creativecommons.org/licenses/by-nc/2.0/\" />\n",
        "        <license id=\"1\" name=\"Attribution-NonCommercial-ShareAlike License\" url=\"https://creativecommons.org/licenses/by-nc-sa/2.0/\" />\n",
        "        <license id=\"5\" name=\"Attribution-ShareAlike License\" url=\"https://creativecommons.org/licenses/by-sa/2.0/\" />\n",
        "        <license id=\"7\" name=\"No known copyright restrictions\" url=\"https://www.flickr.com/commons/usage/\" />\n",
        "        <license id=\"8\" name=\"United States Government Work\" url=\"http://www.usa.gov/copyright.shtml\" />\n",
        "        <license id=\"9\" name=\"Public Domain Dedication (CC0)\" url=\"https://creativecommons.org/publicdomain/zero/1.0/\" />\n",
        "        <license id=\"10\" name=\"Public Domain Mark\" url=\"https://creativecommons.org/publicdomain/mark/1.0/\" />\n",
        "    </licenses>\n",
        "    \"\"\"\n",
        "    photos = flickr.walk(\n",
        "        text=image_tag,\n",
        "        privacy_filter=PUBLIC_PHOTOS,\n",
        "        per_page=images_per_species,\n",
        "        sort=\"relevance\",\n",
        "        license=\"1,2,3,4,5,6,7,8,9,10\",\n",
        "        content_types=PHOTOS_ONLY,\n",
        "    )\n",
        "\n",
        "    return photos\n",
        "\n",
        "\n",
        "def make_dir(path: str) -> None:\n",
        "    if not os.path.isdir(path):\n",
        "        os.makedirs(path)\n",
        "\n",
        "\n",
        "if __name__ == \"__main__\":\n",
        "    print(\"Beginning flickr image scraping\")\n",
        "\n",
        "    dataset_dir = \"data\"\n",
        "    make_dir(dataset_dir)\n",
        "\n",
        "    for bird in birds:\n",
        "        print(f\"\\nCreating {bird} directory...\")\n",
        "\n",
        "        bird_dir = os.path.join(os.getcwd(), dataset_dir, bird)\n",
        "        make_dir(bird_dir)\n",
        "\n",
        "        photos = get_photos(bird)\n",
        "\n",
        "        for i, photo in enumerate(photos):\n",
        "            if i >= images_per_species:\n",
        "                break\n",
        "\n",
        "            url = photo.get(\"url_o\")\n",
        "\n",
        "            if not url:\n",
        "                farm_id = photo.get(\"farm\")\n",
        "                server = photo.get(\"server\")\n",
        "                photo_id = photo.get(\"id\")\n",
        "                secret = photo.get(\"secret\")\n",
        "                url = f\"https://farm{farm_id}.staticflickr.com/{server}/{photo_id}_{secret}.jpg\"\n",
        "\n",
        "            print(f\"{i + 1}) {url}\")\n",
        "\n",
        "            image_path = os.path.join(bird_dir, f\"{bird}_{i}.jpg\")\n",
        "\n",
        "            with open(image_path, \"wb\") as file:\n",
        "                file.write(requests.get(url).content)\n",
        "\n",
        "            print(f\"Saved {bird} image to {image_path}\")\n",
        "\n",
        "    print(\"\\n\\nFinished downloading\")\n"
      ]
    },
    {
      "cell_type": "markdown",
      "source": [
        "Once that's complete, you'll see that there's a `data` directory with many subdirectories of the various bird species we've specified in the birds list. Each species subdirectory contains 100 images, which is an okay amount for training our model.\n",
        "\n",
        "> Did you know that popular data sets tend to have thousands of images per class? ImageNet has 1000 per class while CIFAR10 has 6000 per class! That's a lot of data.\n",
        "\n",
        "We'll now proceed to annotate this data with bounding boxes and classes. You can manually annotate by hand or automate it with [autodistill](https://github.com/autodistill/autodistill) and [GroundingDino](https://github.com/IDEA-Research/GroundingDINO).\n",
        "\n",
        "Be warned, doing it by hand takes a long time. It took me 1 hour to annotate 200 images."
      ],
      "metadata": {
        "id": "h1FniDTGfmoJ"
      }
    },
    {
      "cell_type": "markdown",
      "source": [
        "## Automated Labeling"
      ],
      "metadata": {
        "id": "soydS5FNiz5S"
      }
    },
    {
      "cell_type": "markdown",
      "source": [
        "Let's make sure that we have access to the GPU. We can use `nvidia-smi` command to do that. In case of any problems navigate to `Edit` -> `Notebook settings` -> `Hardware accelerator`, set it to `GPU`, and then click Save.\n",
        "\n",
        "Don't try to use CPU for this! GroundingDino will run veryyyyy slow."
      ],
      "metadata": {
        "id": "GkKAyjoTi4uH"
      }
    },
    {
      "cell_type": "code",
      "source": [
        "!nvidia-smi"
      ],
      "metadata": {
        "id": "bf6OY3w9hz8u"
      },
      "execution_count": null,
      "outputs": []
    },
    {
      "cell_type": "markdown",
      "source": [
        "Install the dependencies as usual. As of 3/14/2024, `autodistill` has a [weird unpack error](https://github.com/autodistill/autodistill/issues/124) so we'll have to install a specific version of `supervision` for the code to work."
      ],
      "metadata": {
        "id": "pez9SIhBjmpE"
      }
    },
    {
      "cell_type": "code",
      "source": [
        "!pip install -q \\\n",
        "autodistill \\\n",
        "autodistill-grounding-dino \\\n",
        "autodistill-yolov8 \\\n",
        "roboflow \\\n",
        "supervision==0.19.0rc2"
      ],
      "metadata": {
        "id": "Lqg0JuBTkOil"
      },
      "execution_count": null,
      "outputs": []
    },
    {
      "cell_type": "markdown",
      "source": [
        "The following code will annotate and label the bounding boxes for all our images and create a `final_dataset` directory with training and validation datasets with the images and labels assigned.\n",
        "\n",
        "If you're running on Google Colab, beware that this will consume pretty much all your compute units, which aren't free. I would recommend using [Vast AI](https://vast.ai/) if you're on Colab or running it on a machine with poor hardware. You can follow the directions for using Vast AI's [Google Colab](https://vast.ai/docs/use-cases/google-colab) guide and rent a GPU for $5 (the minimum amount of credits you can add).\n",
        "\n",
        "This process will take >1 hour so make sure to keep this tab open and do some chores or something."
      ],
      "metadata": {
        "id": "bFRFhBVekXBm"
      }
    },
    {
      "cell_type": "code",
      "source": [
        "import os\n",
        "import shutil\n",
        "import random\n",
        "import cv2\n",
        "import glob\n",
        "import yaml\n",
        "from collections import defaultdict\n",
        "from autodistill_grounding_dino import GroundingDINO\n",
        "from autodistill.detection import CaptionOntology\n",
        "\n",
        "if __name__ == '__main__':\n",
        "\n",
        "    main_dir = \"data\"\n",
        "    final_dir = \"final_dataset\"\n",
        "    current_directory = os.getcwd()\n",
        "    annotation_dir = os.path.join(main_dir, \"annotations\")\n",
        "    images_dir = os.path.join(main_dir, \"images\")\n",
        "    train_dir = os.path.join(final_dir, \"train\")\n",
        "    valid_dir = os.path.join(final_dir, \"valid\")\n",
        "    data_dict = defaultdict(list)\n",
        "    images = {}\n",
        "\n",
        "\n",
        "    os.makedirs(final_dir, exist_ok=True)\n",
        "    os.makedirs(main_dir, exist_ok=True)\n",
        "    os.makedirs(os.path.join(final_dir, 'images'), exist_ok=True)\n",
        "    os.makedirs(os.path.join(final_dir, 'labels'),exist_ok=True)\n",
        "    for dir_path in [train_dir, valid_dir]:\n",
        "        os.makedirs(os.path.join(dir_path, 'images'), exist_ok=True)\n",
        "        os.makedirs(os.path.join(dir_path, 'labels'), exist_ok=True)\n",
        "\n",
        "\n",
        "    print(len(glob.glob(os.path.join(main_dir, '*'))))\n",
        "    print(glob.glob(os.path.join(main_dir, '*')))\n",
        "\n",
        "\n",
        "        # loop over all sub-directories in the top-level directory\n",
        "    for class_dir in glob.glob(os.path.join(main_dir, '*')):\n",
        "        # get the class name from the directory name\n",
        "        class_name = os.path.basename(class_dir)\n",
        "\n",
        "        base_model = GroundingDINO(ontology=CaptionOntology({\"bird\": str(class_name)}))\n",
        "\n",
        "        try:\n",
        "\n",
        "            # label all images in a folder called `context_images`\n",
        "            base_model.label(\n",
        "                input_folder=class_dir,\n",
        "                output_folder=os.path.join(\"data\", str(class_name)),\n",
        "                extension=\".jpg\"\n",
        "            )\n",
        "\n",
        "        except:\n",
        "            pass\n",
        "\n",
        "\n",
        "        for img_path in glob.glob(os.path.join(class_dir, '*')):\n",
        "            img = cv2.imread(img_path)\n",
        "            if img is not None:\n",
        "                image_name = os.path.basename(img_path)\n",
        "                images[image_name] = img\n",
        "                data_dict[class_name].append(img_path)\n",
        "\n",
        "\n",
        "      # Continue with your YAML creation, if necessary\n",
        "    yaml_dict = {\n",
        "        'names': list(data_dict.keys()),\n",
        "        'nc': len(data_dict),\n",
        "        'train': os.path.join(current_directory, final_dir, \"train\"),\n",
        "        'val': os.path.join(current_directory, final_dir, \"valid\")\n",
        "    }\n",
        "\n",
        "    with open(final_dir + '/data.yaml', 'w') as file:\n",
        "        yaml.dump(yaml_dict, file, default_flow_style=False)\n",
        "        print(\"IN YAML\")\n",
        "\n",
        "    for count, folder in enumerate(os.listdir(main_dir)):\n",
        "        print(\"Assigning class index to class name for YOLO: \" + folder)\n",
        "        print(\"Class index: \" + str(count))\n",
        "        source_folder_path = os.path.join(main_dir, folder, 'train')\n",
        "        if os.path.isdir(source_folder_path):\n",
        "            # Copy the 'images' and 'labels' subfolders to the final_dir\n",
        "            for subfolder in ['images', 'labels']:\n",
        "                source_subfolder_path = os.path.join(source_folder_path, subfolder)\n",
        "                if os.path.exists(source_subfolder_path):\n",
        "                    # Loop over each file in the subfolder and copy it to the destination\n",
        "                    for file_name in os.listdir(source_subfolder_path):\n",
        "                        source_file_path = os.path.join(source_subfolder_path, file_name)\n",
        "                        dest_file_path = os.path.join(final_dir, subfolder, file_name)\n",
        "                        if os.path.isfile(source_file_path):  # Check if it is a file, not a directory\n",
        "                            # If this is an annotation file, rewrite the first value in each line\n",
        "                            if subfolder == 'labels':\n",
        "                                with open(source_file_path, 'r') as annot_file:\n",
        "                                    lines = annot_file.readlines()\n",
        "                                lines = [str(count) + line[line.find(' '):] for line in lines]\n",
        "                                with open(dest_file_path, 'w') as annot_file:\n",
        "                                    annot_file.writelines(lines)\n",
        "                            else:\n",
        "                                shutil.copy2(source_file_path, dest_file_path)  # preserves file metadata\n",
        "\n",
        "        source_folder_path = os.path.join(main_dir, folder, 'valid')\n",
        "        if os.path.isdir(source_folder_path):\n",
        "            # Copy the 'images' and 'labels' subfolders to the final_dir\n",
        "            for subfolder in ['images', 'labels']:\n",
        "                source_subfolder_path = os.path.join(source_folder_path, subfolder)\n",
        "                if os.path.exists(source_subfolder_path):\n",
        "                    # Loop over each file in the subfolder and copy it to the destination\n",
        "                    for file_name in os.listdir(source_subfolder_path):\n",
        "                        source_file_path = os.path.join(source_subfolder_path, file_name)\n",
        "                        dest_file_path = os.path.join(final_dir, subfolder, file_name)\n",
        "                        if os.path.isfile(source_file_path):  # Check if it is a file, not a directory\n",
        "                            # If this is an annotation file, rewrite the first value in each line\n",
        "                            if subfolder == 'labels':\n",
        "                                with open(source_file_path, 'r') as annot_file:\n",
        "                                    lines = annot_file.readlines()\n",
        "                                lines = [str(count) + line[line.find(' '):] for line in lines]\n",
        "                                with open(dest_file_path, 'w') as annot_file:\n",
        "                                    annot_file.writelines(lines)\n",
        "                            else:\n",
        "                                shutil.copy2(source_file_path, dest_file_path)  # preserves file metadata\n",
        "\n",
        "\n",
        "     # Get a list of all the images and annotations\n",
        "    image_files = [f for f in os.listdir(os.path.join(final_dir, \"images\")) if os.path.isfile(os.path.join(final_dir, \"images\", f))]\n",
        "    print(\"LENGTH OF IMAGES: \" + str(len(image_files)))\n",
        "    annot_files = [f for f in os.listdir(os.path.join(final_dir, \"labels\")) if os.path.isfile(os.path.join(final_dir, \"labels\", f))]\n",
        "    print(\"LENGTH OF ANNOTATIONS: \" + str(len(annot_files)))\n",
        "\n",
        "        # Assume that each image has a corresponding annotation with the same name\n",
        "    # (minus the extension), shuffle the list and split into train and validation sets\n",
        "    random.shuffle(image_files)\n",
        "    valid_count = int(len(image_files) * 0.1)\n",
        "    valid_files = image_files[:valid_count]\n",
        "    train_files = image_files[valid_count:]\n",
        "\n",
        "     # Move the files to the appropriate folders\n",
        "    for filename in valid_files:\n",
        "        shutil.move(os.path.join(final_dir, \"images\", filename), os.path.join(valid_dir, 'images', filename))\n",
        "        annot_filename = os.path.splitext(filename)[0] + \".txt\"\n",
        "        if annot_filename in annot_files:\n",
        "            shutil.move(os.path.join(final_dir, \"labels\", annot_filename), os.path.join(valid_dir, 'labels', annot_filename))\n",
        "\n",
        "    for filename in train_files:\n",
        "        shutil.move(os.path.join(final_dir, \"images\", filename), os.path.join(train_dir, 'images', filename))\n",
        "        annot_filename = os.path.splitext(filename)[0] + \".txt\"\n",
        "        if annot_filename in annot_files:\n",
        "            shutil.move(os.path.join(final_dir, \"labels\", annot_filename), os.path.join(train_dir, 'labels', annot_filename))\n",
        "    try:\n",
        "      os.removedirs(final_dir + '/images')\n",
        "      os.removedirs(final_dir + '/labels')\n",
        "    except:\n",
        "      pass\n"
      ],
      "metadata": {
        "id": "ERTrK-ZlkdZg"
      },
      "execution_count": null,
      "outputs": []
    },
    {
      "cell_type": "markdown",
      "source": [
        "## Training the Model\n",
        "\n",
        "It is now time for the coup de grâce. We will train our model using a pretrained model as a starting point. This process will also take a long time."
      ],
      "metadata": {
        "id": "wFZ_x6g2my52"
      }
    },
    {
      "cell_type": "code",
      "source": [
        "!pip install ultralytics\n",
        "from ultralytics import YOLO\n",
        "\n",
        "# Load a pretrained YOLO model\n",
        "model = YOLO(\"yolov8s.pt\")\n",
        "\n",
        "# Train the model using bird dataset from roboflow\n",
        "model.train(\n",
        "    data=\"final_dataset/data.yaml\",\n",
        "    epochs=200,\n",
        "    batch=16,\n",
        "    project=os.path.join(os.getcwd(), \"runs\"),\n",
        ")\n",
        "\n",
        "# Evaluate the model's performance on the validation set\n",
        "model.val()"
      ],
      "metadata": {
        "id": "rUeIG5GEnUVG"
      },
      "execution_count": null,
      "outputs": []
    },
    {
      "cell_type": "markdown",
      "source": [
        "Let's test our model to see if it works. Get some bird pictures ready because now we'll tell our model to run some predictions on them."
      ],
      "metadata": {
        "id": "4ImAY0hboFKX"
      }
    },
    {
      "cell_type": "code",
      "source": [
        "import ipywidgets as widgets\n",
        "from IPython.display import display, clear_output\n",
        "from ultralytics import YOLO\n",
        "from PIL import Image\n",
        "import io\n",
        "import os\n",
        "\n",
        "HOME = os.getcwd()\n",
        "\n",
        "\n",
        "# Function to handle image upload and display\n",
        "def on_upload(change):\n",
        "    clear_output()\n",
        "    uploaded_filename = next(iter(change[\"new\"].keys()))\n",
        "    uploaded_file = change[\"new\"][uploaded_filename][\"content\"]\n",
        "\n",
        "    file_name, extension = os.path.splitext(uploaded_filename)\n",
        "\n",
        "    model = YOLO(f\"{HOME}/runs/train/weights/best.pt\")\n",
        "    results = model.predict(uploaded_filename)\n",
        "\n",
        "    result = results[0]\n",
        "    result_img = f\"{file_name}_result{extension}\"\n",
        "    result.save(filename=result_img)\n",
        "\n",
        "    result_binary = open(result_img, \"rb\").read()\n",
        "\n",
        "    original_img = widgets.Image(value=uploaded_file)\n",
        "    object_detection_img = widgets.Image(value=result_binary)\n",
        "\n",
        "    images = widgets.HBox([original_img, object_detection_img])\n",
        "    display(images)\n",
        "\n",
        "\n",
        "# Create upload button\n",
        "upload_button = widgets.FileUpload(description=\"Upload Image\", accept=\"image/*\")\n",
        "\n",
        "# Attach the upload handler to the button\n",
        "upload_button.observe(on_upload, names=\"value\")\n",
        "\n",
        "# Display the upload button\n",
        "display(upload_button)\n"
      ],
      "metadata": {
        "colab": {
          "base_uri": "https://localhost:8080/",
          "height": 373,
          "referenced_widgets": [
            "08449d4575b0464c893f48fee7b4460c",
            "109ce06d73f243b092b74722351bf12c",
            "5fe3df8364794f4ab4b466cd7ded30e7",
            "337e5d813a43485392adfc707adb7c7c",
            "29d823b7ed2d40eab3f86e4f642e1bd8",
            "c551cdebb41748f29a49966014ed28f8",
            "cf64f1a9250643b98f7bb667f4354089",
            "2d14cada25af430da0c02c375239b967",
            "2b3341f3971742aca12751b500625c6a"
          ]
        },
        "id": "aUsKoV4OoXQ-",
        "outputId": "63e9f8ed-e0f5-4e80-e06c-75e837c27cbc"
      },
      "execution_count": 58,
      "outputs": [
        {
          "output_type": "stream",
          "name": "stdout",
          "text": [
            "\n",
            "image 1/1 /content/osprey.jpg: 448x640 1 Osprey, 528.4ms\n",
            "Speed: 4.8ms preprocess, 528.4ms inference, 1.6ms postprocess per image at shape (1, 3, 448, 640)\n"
          ]
        },
        {
          "output_type": "display_data",
          "data": {
            "text/plain": [
              "HBox(children=(Image(value=b'\\xff\\xd8\\xff\\xe0\\x00\\x10JFIF\\x00\\x01\\x00\\x01\\x00\\x96\\x00\\x96\\x00\\x00\\xff\\xfe\\x00\\…"
            ],
            "application/vnd.jupyter.widget-view+json": {
              "version_major": 2,
              "version_minor": 0,
              "model_id": "337e5d813a43485392adfc707adb7c7c"
            }
          },
          "metadata": {}
        }
      ]
    },
    {
      "cell_type": "markdown",
      "source": [
        "Hopefully, the model detected some birds in your images (if you had any). Since we're all set to go, let's zip up the `runs` directory that contains our model and data visualization stuff."
      ],
      "metadata": {
        "id": "86XKCyV1-tlz"
      }
    },
    {
      "cell_type": "code",
      "source": [
        "!apt install zip\n",
        "!zip -r runs.zip runs"
      ],
      "metadata": {
        "colab": {
          "base_uri": "https://localhost:8080/"
        },
        "id": "rBFZefzxuCeu",
        "outputId": "9b7bba97-6a08-48b6-a563-6fcacbcd07f1"
      },
      "execution_count": null,
      "outputs": [
        {
          "output_type": "stream",
          "name": "stdout",
          "text": [
            "Reading package lists... Done\n",
            "Building dependency tree... Done\n",
            "Reading state information... Done\n",
            "zip is already the newest version (3.0-12build2).\n",
            "unzip is already the newest version (6.0-26ubuntu3.2).\n",
            "0 upgraded, 0 newly installed, 0 to remove and 7 not upgraded.\n",
            "Archive:  runs.zip\n",
            "  End-of-central-directory signature not found.  Either this file is not\n",
            "  a zipfile, or it constitutes one disk of a multi-part archive.  In the\n",
            "  latter case the central directory and zipfile comment will be found on\n",
            "  the last disk(s) of this archive.\n",
            "unzip:  cannot find zipfile directory in one of runs.zip or\n",
            "        runs.zip.zip, and cannot find runs.zip.ZIP, period.\n"
          ]
        }
      ]
    },
    {
      "cell_type": "markdown",
      "source": [
        "Download the zip on your local machine. You can also go to `Files` -> Click the three dots near `runs.zip` -> `Download`."
      ],
      "metadata": {
        "id": "_VE93VR6_1B9"
      }
    },
    {
      "cell_type": "code",
      "source": [
        "from google.colab import files\n",
        "files.download('runs.zip')"
      ],
      "metadata": {
        "id": "YT0KT6yJ_ww-"
      },
      "execution_count": null,
      "outputs": []
    },
    {
      "cell_type": "markdown",
      "source": [
        "You are now ready to deploy your model to detect birds for your needs!"
      ],
      "metadata": {
        "id": "Uf4u_T32_eqi"
      }
    }
  ]
}