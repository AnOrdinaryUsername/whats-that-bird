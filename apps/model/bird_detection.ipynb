{
  "cells": [
    {
      "cell_type": "markdown",
      "metadata": {
        "id": "CEKQvfa4XbjC"
      },
      "source": [
        "# **Detecting Birds Using YOLOv8**"
      ]
    },
    {
      "cell_type": "markdown",
      "metadata": {
        "id": "8xJ2bYjsXyS-"
      },
      "source": [
        "<img src=\"https://d2jxjlx1x5gewb.cloudfront.net/8b257a9f-361b-4639-91da-7f78965409b2.png\" alt=\"Snowy Egret detected in image\" />\n",
        "\n",
        "The goal of this project was to use a pretained Object Detection model and transfer learning to detect the presence of birds in an image. To this end, I chose the YOLOv8 model for its quality [documentation](https://docs.ultralytics.com/), ease of use, and proven results.\n",
        "\n",
        "Let me walk you through the steps I undertook."
      ]
    },
    {
      "cell_type": "markdown",
      "metadata": {
        "id": "K8fcmT6la0r3"
      },
      "source": [
        "## Collecting Data\n",
        "\n",
        "First, we will collect our bird images from [Flickr](https://www.flickr.com/). Flickr hosts many quality images from avid photographers, which make it a prime destination for bird pictures. We will need to access their API before we begin. You can request an API key from them [here](https://www.flickr.com/services/api/misc.api_keys.html).\n",
        "\n",
        "After you applied and acquired a key, enter your Flickr API key and secret in the quotes where it says:\n",
        "\n",
        "```python\n",
        "os.environ[\"FLICKR_API_KEY\"] = \"\"\n",
        "os.environ[\"FLICKR_SECRET\"] = \"\"\n",
        "```"
      ]
    },
    {
      "cell_type": "markdown",
      "metadata": {
        "id": "-FQVj9nOeTMI"
      },
      "source": [
        "Now, let's install some dependencies to make image collection easier."
      ]
    },
    {
      "cell_type": "code",
      "execution_count": null,
      "metadata": {
        "colab": {
          "base_uri": "https://localhost:8080/"
        },
        "id": "Y754hSR8b9Bx",
        "outputId": "ce4ba238-23e2-4722-d9f2-44620953b3a1"
      },
      "outputs": [],
      "source": [
        "!pip install \\\n",
        "flickrapi \\\n",
        "requests"
      ]
    },
    {
      "cell_type": "code",
      "execution_count": null,
      "metadata": {
        "colab": {
          "base_uri": "https://localhost:8080/",
          "height": 408
        },
        "id": "GVpru4vkXYtc",
        "outputId": "2d219a0b-297b-403c-cb4f-043ef77864a9"
      },
      "outputs": [],
      "source": [
        "from flickrapi import FlickrAPI\n",
        "import os\n",
        "import requests\n",
        "from typing import Generator, Any\n",
        "\n",
        "os.environ[\"FLICKR_API_KEY\"] = \"\"\n",
        "os.environ[\"FLICKR_SECRET\"] = \"\"\n",
        "\n",
        "\n",
        "birds = [\n",
        "    \"Mallard\",\n",
        "    \"American Wigeon\",\n",
        "    \"Northern Pintail\",\n",
        "    \"Northern Shoveler\",\n",
        "    \"Cinnamon Teal\",\n",
        "    \"Ring-necked duck\",\n",
        "    \"Lesser Scaup\",\n",
        "    \"Ruddy Duck\",\n",
        "    \"Pied-billed Grebe\",\n",
        "    \"American White Pelican\",\n",
        "    \"Double-crested Cormorant\",\n",
        "    \"Black-crowned Night-Heron\",\n",
        "    \"Green Heron\",\n",
        "    \"Snowy Egret\",\n",
        "    \"Great Egret\",\n",
        "    \"Great Blue Heron\",\n",
        "    \"Turkey Vulture\",\n",
        "    \"Osprey\",\n",
        "    \"Cooper’s Hawk\",\n",
        "    \"Red-shouldered Hawk\",\n",
        "    \"Red-tailed Hawk\",\n",
        "    \"American Kestrel\",\n",
        "    \"American Coot\",\n",
        "    \"Great Horned Owl\",\n",
        "    \"Anna’s Hummingbird\",\n",
        "    \"Allen’s Hummingbird\",\n",
        "    \"Belted Kingfisher\",\n",
        "    \"Northern Flicker\",\n",
        "    \"Downy Woodpecker\",\n",
        "    \"Black Phoebe\",\n",
        "    \"Western Scrub-Jay\",\n",
        "]\n",
        "\n",
        "images_per_species = 100\n",
        "\n",
        "\n",
        "class MissingEnvironmentVariable(Exception):\n",
        "    pass\n",
        "\n",
        "\n",
        "def check_env_var(var: str) -> str:\n",
        "    try:\n",
        "        env_var = os.environ[var]\n",
        "    except KeyError:\n",
        "        raise MissingEnvironmentVariable(\n",
        "            f\"Missing environment variable: {var}. \"\n",
        "            \"Make sure to add your Flickr API key and Secret to .env file. \"\n",
        "            \"See .env.example for .env format.\"\n",
        "        )\n",
        "\n",
        "    return env_var\n",
        "\n",
        "\n",
        "def get_photos(image_tag: str) -> Generator[Any, Any, None]:\n",
        "    PUBLIC_PHOTOS = 1\n",
        "    PHOTOS_ONLY = 0\n",
        "\n",
        "    api_key = check_env_var(\"FLICKR_API_KEY\")\n",
        "    secret = check_env_var(\"FLICKR_SECRET\")\n",
        "\n",
        "    flickr = FlickrAPI(api_key, secret)\n",
        "\n",
        "    \"\"\"\n",
        "    All license values according to flickr.photos.licenses.getInfo.\n",
        "    See: https://www.flickr.com/services/api/flickr.photos.licenses.getInfo.htm\n",
        "\n",
        "    <licenses>\n",
        "        <license id=\"0\" name=\"All Rights Reserved\" url=\"\" />\n",
        "        <license id=\"4\" name=\"Attribution License\" url=\"https://creativecommons.org/licenses/by/2.0/\" />\n",
        "        <license id=\"6\" name=\"Attribution-NoDerivs License\" url=\"https://creativecommons.org/licenses/by-nd/2.0/\" />\n",
        "        <license id=\"3\" name=\"Attribution-NonCommercial-NoDerivs License\" url=\"https://creativecommons.org/licenses/by-nc-nd/2.0/\" />\n",
        "        <license id=\"2\" name=\"Attribution-NonCommercial License\" url=\"https://creativecommons.org/licenses/by-nc/2.0/\" />\n",
        "        <license id=\"1\" name=\"Attribution-NonCommercial-ShareAlike License\" url=\"https://creativecommons.org/licenses/by-nc-sa/2.0/\" />\n",
        "        <license id=\"5\" name=\"Attribution-ShareAlike License\" url=\"https://creativecommons.org/licenses/by-sa/2.0/\" />\n",
        "        <license id=\"7\" name=\"No known copyright restrictions\" url=\"https://www.flickr.com/commons/usage/\" />\n",
        "        <license id=\"8\" name=\"United States Government Work\" url=\"http://www.usa.gov/copyright.shtml\" />\n",
        "        <license id=\"9\" name=\"Public Domain Dedication (CC0)\" url=\"https://creativecommons.org/publicdomain/zero/1.0/\" />\n",
        "        <license id=\"10\" name=\"Public Domain Mark\" url=\"https://creativecommons.org/publicdomain/mark/1.0/\" />\n",
        "    </licenses>\n",
        "    \"\"\"\n",
        "    photos = flickr.walk(\n",
        "        text=image_tag,\n",
        "        privacy_filter=PUBLIC_PHOTOS,\n",
        "        per_page=images_per_species,\n",
        "        sort=\"relevance\",\n",
        "        license=\"1,2,3,4,5,6,7,8,9,10\",\n",
        "        content_types=PHOTOS_ONLY,\n",
        "    )\n",
        "\n",
        "    return photos\n",
        "\n",
        "\n",
        "def make_dir(path: str) -> None:\n",
        "    if not os.path.isdir(path):\n",
        "        os.makedirs(path)\n",
        "\n",
        "\n",
        "if __name__ == \"__main__\":\n",
        "    print(\"Beginning flickr image scraping\")\n",
        "\n",
        "    dataset_dir = \"data\"\n",
        "    make_dir(dataset_dir)\n",
        "\n",
        "    for bird in birds:\n",
        "        print(f\"\\nCreating {bird} directory...\")\n",
        "\n",
        "        bird_dir = os.path.join(os.getcwd(), dataset_dir, bird)\n",
        "        make_dir(bird_dir)\n",
        "\n",
        "        photos = get_photos(bird)\n",
        "\n",
        "        for i, photo in enumerate(photos):\n",
        "            if i >= images_per_species:\n",
        "                break\n",
        "\n",
        "            url = photo.get(\"url_o\")\n",
        "\n",
        "            if not url:\n",
        "                farm_id = photo.get(\"farm\")\n",
        "                server = photo.get(\"server\")\n",
        "                photo_id = photo.get(\"id\")\n",
        "                secret = photo.get(\"secret\")\n",
        "                url = f\"https://farm{farm_id}.staticflickr.com/{server}/{photo_id}_{secret}.jpg\"\n",
        "\n",
        "            print(f\"{i + 1}) {url}\")\n",
        "\n",
        "            image_path = os.path.join(bird_dir, f\"{bird}_{i}.jpg\")\n",
        "\n",
        "            with open(image_path, \"wb\") as file:\n",
        "                file.write(requests.get(url).content)\n",
        "\n",
        "            print(f\"Saved {bird} image to {image_path}\")\n",
        "\n",
        "    print(\"\\n\\nFinished downloading\")\n"
      ]
    },
    {
      "cell_type": "markdown",
      "metadata": {
        "id": "h1FniDTGfmoJ"
      },
      "source": [
        "Once that's complete, you'll see that there's a `data` directory with many subdirectories of the various bird species we've specified in the birds list. Each species subdirectory contains 100 images, which is an okay amount for training our model.\n",
        "\n",
        "> Did you know that popular data sets tend to have thousands of images per class? ImageNet has 1000 per class while CIFAR10 has 6000 per class! That's a lot of data.\n",
        "\n",
        "We'll now proceed to annotate this data with bounding boxes and classes. You can manually annotate by hand or automate it with [autodistill](https://github.com/autodistill/autodistill) and [GroundingDino](https://github.com/IDEA-Research/GroundingDINO).\n",
        "\n",
        "Be warned, doing it by hand takes a long time. It took me 1 hour to annotate 200 images."
      ]
    },
    {
      "cell_type": "markdown",
      "metadata": {
        "id": "soydS5FNiz5S"
      },
      "source": [
        "## Automated Labeling"
      ]
    },
    {
      "cell_type": "markdown",
      "metadata": {
        "id": "GkKAyjoTi4uH"
      },
      "source": [
        "Let's make sure that we have access to the GPU. We can use `nvidia-smi` command to do that. In case of any problems navigate to `Edit` -> `Notebook settings` -> `Hardware accelerator`, set it to `GPU`, and then click Save.\n",
        "\n",
        "Don't try to use CPU for this! GroundingDino will run veryyyyy slow."
      ]
    },
    {
      "cell_type": "code",
      "execution_count": null,
      "metadata": {
        "id": "bf6OY3w9hz8u"
      },
      "outputs": [],
      "source": [
        "!nvidia-smi"
      ]
    },
    {
      "cell_type": "markdown",
      "metadata": {
        "id": "pez9SIhBjmpE"
      },
      "source": [
        "Install the dependencies as usual. As of 3/14/2024, `autodistill` has a [weird unpack error](https://github.com/autodistill/autodistill/issues/124) so we'll have to install a specific version of `supervision` for the code to work."
      ]
    },
    {
      "cell_type": "code",
      "execution_count": null,
      "metadata": {
        "id": "Lqg0JuBTkOil"
      },
      "outputs": [],
      "source": [
        "!pip install -q \\\n",
        "autodistill \\\n",
        "autodistill-grounding-dino \\\n",
        "autodistill-yolov8 \\\n",
        "roboflow \\\n",
        "supervision==0.19.0rc2"
      ]
    },
    {
      "cell_type": "markdown",
      "metadata": {
        "id": "bFRFhBVekXBm"
      },
      "source": [
        "The following code will annotate and label the bounding boxes for all our images and create a `final_dataset` directory with training and validation datasets with the images and labels assigned.\n",
        "\n",
        "If you're running on Google Colab, beware that this will consume pretty much all your compute units, which aren't free. I would recommend using [Vast AI](https://vast.ai/) if you're on Colab or running it on a machine with poor hardware. You can follow the directions for using Vast AI's [Google Colab](https://vast.ai/docs/use-cases/google-colab) guide and rent a GPU for $5 (the minimum amount of credits you can add).\n",
        "\n",
        "This process will take >1 hour so make sure to keep this tab open and do some chores or something."
      ]
    },
    {
      "cell_type": "code",
      "execution_count": null,
      "metadata": {
        "id": "ERTrK-ZlkdZg"
      },
      "outputs": [],
      "source": [
        "import os\n",
        "import shutil\n",
        "import random\n",
        "import cv2\n",
        "import glob\n",
        "import yaml\n",
        "from collections import defaultdict\n",
        "from autodistill_grounding_dino import GroundingDINO\n",
        "from autodistill.detection import CaptionOntology\n",
        "\n",
        "if __name__ == '__main__':\n",
        "\n",
        "    main_dir = \"data\"\n",
        "    final_dir = \"final_dataset\"\n",
        "    current_directory = os.getcwd()\n",
        "    annotation_dir = os.path.join(main_dir, \"annotations\")\n",
        "    images_dir = os.path.join(main_dir, \"images\")\n",
        "    train_dir = os.path.join(final_dir, \"train\")\n",
        "    valid_dir = os.path.join(final_dir, \"valid\")\n",
        "    data_dict = defaultdict(list)\n",
        "    images = {}\n",
        "\n",
        "\n",
        "    os.makedirs(final_dir, exist_ok=True)\n",
        "    os.makedirs(main_dir, exist_ok=True)\n",
        "    os.makedirs(os.path.join(final_dir, 'images'), exist_ok=True)\n",
        "    os.makedirs(os.path.join(final_dir, 'labels'),exist_ok=True)\n",
        "    for dir_path in [train_dir, valid_dir]:\n",
        "        os.makedirs(os.path.join(dir_path, 'images'), exist_ok=True)\n",
        "        os.makedirs(os.path.join(dir_path, 'labels'), exist_ok=True)\n",
        "\n",
        "\n",
        "    print(len(glob.glob(os.path.join(main_dir, '*'))))\n",
        "    print(glob.glob(os.path.join(main_dir, '*')))\n",
        "\n",
        "\n",
        "        # loop over all sub-directories in the top-level directory\n",
        "    for class_dir in glob.glob(os.path.join(main_dir, '*')):\n",
        "        # get the class name from the directory name\n",
        "        class_name = os.path.basename(class_dir)\n",
        "\n",
        "        base_model = GroundingDINO(ontology=CaptionOntology({\"bird\": str(class_name)}))\n",
        "\n",
        "        try:\n",
        "\n",
        "            # label all images in a folder called `context_images`\n",
        "            base_model.label(\n",
        "                input_folder=class_dir,\n",
        "                output_folder=os.path.join(\"data\", str(class_name)),\n",
        "                extension=\".jpg\"\n",
        "            )\n",
        "\n",
        "        except:\n",
        "            pass\n",
        "\n",
        "\n",
        "        for img_path in glob.glob(os.path.join(class_dir, '*')):\n",
        "            img = cv2.imread(img_path)\n",
        "            if img is not None:\n",
        "                image_name = os.path.basename(img_path)\n",
        "                images[image_name] = img\n",
        "                data_dict[class_name].append(img_path)\n",
        "\n",
        "\n",
        "      # Continue with your YAML creation, if necessary\n",
        "    yaml_dict = {\n",
        "        'names': list(data_dict.keys()),\n",
        "        'nc': len(data_dict),\n",
        "        'train': os.path.join(current_directory, final_dir, \"train\"),\n",
        "        'val': os.path.join(current_directory, final_dir, \"valid\")\n",
        "    }\n",
        "\n",
        "    with open(final_dir + '/data.yaml', 'w') as file:\n",
        "        yaml.dump(yaml_dict, file, default_flow_style=False)\n",
        "        print(\"IN YAML\")\n",
        "\n",
        "    for count, folder in enumerate(os.listdir(main_dir)):\n",
        "        print(\"Assigning class index to class name for YOLO: \" + folder)\n",
        "        print(\"Class index: \" + str(count))\n",
        "        source_folder_path = os.path.join(main_dir, folder, 'train')\n",
        "        if os.path.isdir(source_folder_path):\n",
        "            # Copy the 'images' and 'labels' subfolders to the final_dir\n",
        "            for subfolder in ['images', 'labels']:\n",
        "                source_subfolder_path = os.path.join(source_folder_path, subfolder)\n",
        "                if os.path.exists(source_subfolder_path):\n",
        "                    # Loop over each file in the subfolder and copy it to the destination\n",
        "                    for file_name in os.listdir(source_subfolder_path):\n",
        "                        source_file_path = os.path.join(source_subfolder_path, file_name)\n",
        "                        dest_file_path = os.path.join(final_dir, subfolder, file_name)\n",
        "                        if os.path.isfile(source_file_path):  # Check if it is a file, not a directory\n",
        "                            # If this is an annotation file, rewrite the first value in each line\n",
        "                            if subfolder == 'labels':\n",
        "                                with open(source_file_path, 'r') as annot_file:\n",
        "                                    lines = annot_file.readlines()\n",
        "                                lines = [str(count) + line[line.find(' '):] for line in lines]\n",
        "                                with open(dest_file_path, 'w') as annot_file:\n",
        "                                    annot_file.writelines(lines)\n",
        "                            else:\n",
        "                                shutil.copy2(source_file_path, dest_file_path)  # preserves file metadata\n",
        "\n",
        "        source_folder_path = os.path.join(main_dir, folder, 'valid')\n",
        "        if os.path.isdir(source_folder_path):\n",
        "            # Copy the 'images' and 'labels' subfolders to the final_dir\n",
        "            for subfolder in ['images', 'labels']:\n",
        "                source_subfolder_path = os.path.join(source_folder_path, subfolder)\n",
        "                if os.path.exists(source_subfolder_path):\n",
        "                    # Loop over each file in the subfolder and copy it to the destination\n",
        "                    for file_name in os.listdir(source_subfolder_path):\n",
        "                        source_file_path = os.path.join(source_subfolder_path, file_name)\n",
        "                        dest_file_path = os.path.join(final_dir, subfolder, file_name)\n",
        "                        if os.path.isfile(source_file_path):  # Check if it is a file, not a directory\n",
        "                            # If this is an annotation file, rewrite the first value in each line\n",
        "                            if subfolder == 'labels':\n",
        "                                with open(source_file_path, 'r') as annot_file:\n",
        "                                    lines = annot_file.readlines()\n",
        "                                lines = [str(count) + line[line.find(' '):] for line in lines]\n",
        "                                with open(dest_file_path, 'w') as annot_file:\n",
        "                                    annot_file.writelines(lines)\n",
        "                            else:\n",
        "                                shutil.copy2(source_file_path, dest_file_path)  # preserves file metadata\n",
        "\n",
        "\n",
        "     # Get a list of all the images and annotations\n",
        "    image_files = [f for f in os.listdir(os.path.join(final_dir, \"images\")) if os.path.isfile(os.path.join(final_dir, \"images\", f))]\n",
        "    print(\"LENGTH OF IMAGES: \" + str(len(image_files)))\n",
        "    annot_files = [f for f in os.listdir(os.path.join(final_dir, \"labels\")) if os.path.isfile(os.path.join(final_dir, \"labels\", f))]\n",
        "    print(\"LENGTH OF ANNOTATIONS: \" + str(len(annot_files)))\n",
        "\n",
        "        # Assume that each image has a corresponding annotation with the same name\n",
        "    # (minus the extension), shuffle the list and split into train and validation sets\n",
        "    random.shuffle(image_files)\n",
        "    valid_count = int(len(image_files) * 0.1)\n",
        "    valid_files = image_files[:valid_count]\n",
        "    train_files = image_files[valid_count:]\n",
        "\n",
        "     # Move the files to the appropriate folders\n",
        "    for filename in valid_files:\n",
        "        shutil.move(os.path.join(final_dir, \"images\", filename), os.path.join(valid_dir, 'images', filename))\n",
        "        annot_filename = os.path.splitext(filename)[0] + \".txt\"\n",
        "        if annot_filename in annot_files:\n",
        "            shutil.move(os.path.join(final_dir, \"labels\", annot_filename), os.path.join(valid_dir, 'labels', annot_filename))\n",
        "\n",
        "    for filename in train_files:\n",
        "        shutil.move(os.path.join(final_dir, \"images\", filename), os.path.join(train_dir, 'images', filename))\n",
        "        annot_filename = os.path.splitext(filename)[0] + \".txt\"\n",
        "        if annot_filename in annot_files:\n",
        "            shutil.move(os.path.join(final_dir, \"labels\", annot_filename), os.path.join(train_dir, 'labels', annot_filename))\n",
        "    try:\n",
        "      os.removedirs(final_dir + '/images')\n",
        "      os.removedirs(final_dir + '/labels')\n",
        "    except:\n",
        "      pass\n"
      ]
    },
    {
      "cell_type": "markdown",
      "metadata": {
        "id": "wFZ_x6g2my52"
      },
      "source": [
        "## Training the Model\n",
        "\n",
        "It is now time for the coup de grâce. We will train our model using a pretrained model as a starting point. This process will also take a long time."
      ]
    },
    {
      "cell_type": "code",
      "execution_count": null,
      "metadata": {},
      "outputs": [],
      "source": [
        "!pip install ultralytics"
      ]
    },
    {
      "cell_type": "code",
      "execution_count": null,
      "metadata": {
        "id": "rUeIG5GEnUVG"
      },
      "outputs": [],
      "source": [
        "from ultralytics import YOLO\n",
        "\n",
        "# Load a pretrained YOLO model\n",
        "model = YOLO(\"yolov8s.pt\")\n",
        "\n",
        "# Train the model using bird dataset from roboflow\n",
        "model.train(\n",
        "    data=\"final_dataset/data.yaml\",\n",
        "    epochs=200,\n",
        "    batch=16,\n",
        "    project=os.path.join(os.getcwd(), \"runs\"),\n",
        ")\n",
        "\n",
        "# Evaluate the model's performance on the validation set\n",
        "model.val()"
      ]
    },
    {
      "cell_type": "markdown",
      "metadata": {
        "id": "4ImAY0hboFKX"
      },
      "source": [
        "Let's test our model to see if it works. Get some bird pictures ready because now we'll run some predictions on them. Feel free to change the path of the model you want to use. It's usually stored in `runs/train/weights`."
      ]
    },
    {
      "cell_type": "code",
      "execution_count": null,
      "metadata": {
        "colab": {
          "base_uri": "https://localhost:8080/",
          "height": 373,
          "referenced_widgets": [
            "08449d4575b0464c893f48fee7b4460c",
            "109ce06d73f243b092b74722351bf12c",
            "5fe3df8364794f4ab4b466cd7ded30e7",
            "337e5d813a43485392adfc707adb7c7c",
            "29d823b7ed2d40eab3f86e4f642e1bd8",
            "c551cdebb41748f29a49966014ed28f8",
            "cf64f1a9250643b98f7bb667f4354089",
            "2d14cada25af430da0c02c375239b967",
            "2b3341f3971742aca12751b500625c6a"
          ]
        },
        "id": "aUsKoV4OoXQ-",
        "outputId": "63e9f8ed-e0f5-4e80-e06c-75e837c27cbc"
      },
      "outputs": [],
      "source": [
        "import ipywidgets as widgets\n",
        "from IPython.display import display, clear_output\n",
        "from ultralytics import YOLO\n",
        "from PIL import Image\n",
        "import io\n",
        "import os\n",
        "\n",
        "HOME = os.getcwd()\n",
        "\n",
        "# You can change the path of the model if you wish\n",
        "model_path = f\"{HOME}/runs/train/weights/best.pt\"\n",
        "\n",
        "\n",
        "# Function to handle image upload and display\n",
        "def on_upload(change):\n",
        "    clear_output()\n",
        "    uploaded_filename = next(iter(change[\"new\"].keys()))\n",
        "    uploaded_file = change[\"new\"][uploaded_filename][\"content\"]\n",
        "\n",
        "    file_name, extension = os.path.splitext(uploaded_filename)\n",
        "    Image.open(io.BytesIO(uploaded_file)).save(uploaded_filename)\n",
        "\n",
        "    model = YOLO(model_path)\n",
        "    results = model.predict(uploaded_filename)\n",
        "\n",
        "    result = results[0]\n",
        "    result_img = f\"{file_name}_result{extension}\"\n",
        "    result.save(filename=result_img)\n",
        "\n",
        "    result_binary = open(result_img, \"rb\").read()\n",
        "\n",
        "    original_img = widgets.Image(value=uploaded_file)\n",
        "    object_detection_img = widgets.Image(value=result_binary)\n",
        "\n",
        "    images = widgets.HBox([original_img, object_detection_img])\n",
        "    display(images)\n",
        "\n",
        "\n",
        "# Create upload button\n",
        "upload_button = widgets.FileUpload(description=\"Upload Image\", accept=\"image/*\")\n",
        "\n",
        "# Attach the upload handler to the button\n",
        "upload_button.observe(on_upload, names=\"value\")\n",
        "\n",
        "# Display the upload button\n",
        "display(upload_button)\n"
      ]
    },
    {
      "cell_type": "markdown",
      "metadata": {
        "id": "86XKCyV1-tlz"
      },
      "source": [
        "Hopefully, the model detected some birds in your images (if you had any). Since we're all set to go, let's zip up the `runs` directory that contains our model and data visualization stuff.\n"
      ]
    },
    {
      "cell_type": "code",
      "execution_count": null,
      "metadata": {
        "colab": {
          "base_uri": "https://localhost:8080/"
        },
        "id": "rBFZefzxuCeu",
        "outputId": "9b7bba97-6a08-48b6-a563-6fcacbcd07f1"
      },
      "outputs": [],
      "source": [
        "!apt install zip\n",
        "!zip -r runs.zip runs"
      ]
    },
    {
      "cell_type": "markdown",
      "metadata": {
        "id": "_VE93VR6_1B9"
      },
      "source": [
        "Download the zip on your local machine. You can also go to `Files` -> Click the three dots near `runs.zip` -> `Download`."
      ]
    },
    {
      "cell_type": "code",
      "execution_count": null,
      "metadata": {
        "id": "YT0KT6yJ_ww-"
      },
      "outputs": [],
      "source": [
        "from google.colab import files\n",
        "files.download('runs.zip')"
      ]
    },
    {
      "cell_type": "markdown",
      "metadata": {
        "id": "Uf4u_T32_eqi"
      },
      "source": [
        "You are now ready to deploy your model for your bird detecting needs!"
      ]
    }
  ],
  "metadata": {
    "colab": {
      "provenance": []
    },
    "kernelspec": {
      "display_name": "Python 3",
      "name": "python3"
    },
    "language_info": {
      "name": "python"
    },
    "widgets": {
      "application/vnd.jupyter.widget-state+json": {
        "08449d4575b0464c893f48fee7b4460c": {
          "model_module": "@jupyter-widgets/controls",
          "model_module_version": "1.5.0",
          "model_name": "FileUploadModel",
          "state": {
            "_counter": 1,
            "_dom_classes": [],
            "_model_module": "@jupyter-widgets/controls",
            "_model_module_version": "1.5.0",
            "_model_name": "FileUploadModel",
            "_view_count": null,
            "_view_module": "@jupyter-widgets/controls",
            "_view_module_version": "1.5.0",
            "_view_name": "FileUploadView",
            "accept": "image/*",
            "button_style": "",
            "data": [
              null
            ],
            "description": "Upload Image",
            "description_tooltip": null,
            "disabled": false,
            "error": "",
            "icon": "upload",
            "layout": "IPY_MODEL_109ce06d73f243b092b74722351bf12c",
            "metadata": [
              {
                "lastModified": 1709846170569,
                "name": "osprey.jpg",
                "size": 52325,
                "type": "image/jpeg"
              }
            ],
            "multiple": false,
            "style": "IPY_MODEL_5fe3df8364794f4ab4b466cd7ded30e7"
          }
        },
        "109ce06d73f243b092b74722351bf12c": {
          "model_module": "@jupyter-widgets/base",
          "model_module_version": "1.2.0",
          "model_name": "LayoutModel",
          "state": {
            "_model_module": "@jupyter-widgets/base",
            "_model_module_version": "1.2.0",
            "_model_name": "LayoutModel",
            "_view_count": null,
            "_view_module": "@jupyter-widgets/base",
            "_view_module_version": "1.2.0",
            "_view_name": "LayoutView",
            "align_content": null,
            "align_items": null,
            "align_self": null,
            "border": null,
            "bottom": null,
            "display": null,
            "flex": null,
            "flex_flow": null,
            "grid_area": null,
            "grid_auto_columns": null,
            "grid_auto_flow": null,
            "grid_auto_rows": null,
            "grid_column": null,
            "grid_gap": null,
            "grid_row": null,
            "grid_template_areas": null,
            "grid_template_columns": null,
            "grid_template_rows": null,
            "height": null,
            "justify_content": null,
            "justify_items": null,
            "left": null,
            "margin": null,
            "max_height": null,
            "max_width": null,
            "min_height": null,
            "min_width": null,
            "object_fit": null,
            "object_position": null,
            "order": null,
            "overflow": null,
            "overflow_x": null,
            "overflow_y": null,
            "padding": null,
            "right": null,
            "top": null,
            "visibility": null,
            "width": null
          }
        },
        "29d823b7ed2d40eab3f86e4f642e1bd8": {
          "model_module": "@jupyter-widgets/controls",
          "model_module_version": "1.5.0",
          "model_name": "ImageModel",
          "state": {
            "_dom_classes": [],
            "_model_module": "@jupyter-widgets/controls",
            "_model_module_version": "1.5.0",
            "_model_name": "ImageModel",
            "_view_count": null,
            "_view_module": "@jupyter-widgets/controls",
            "_view_module_version": "1.5.0",
            "_view_name": "ImageView",
            "format": "png",
            "height": "",
            "layout": "IPY_MODEL_2d14cada25af430da0c02c375239b967",
            "width": ""
          }
        },
        "2b3341f3971742aca12751b500625c6a": {
          "model_module": "@jupyter-widgets/base",
          "model_module_version": "1.2.0",
          "model_name": "LayoutModel",
          "state": {
            "_model_module": "@jupyter-widgets/base",
            "_model_module_version": "1.2.0",
            "_model_name": "LayoutModel",
            "_view_count": null,
            "_view_module": "@jupyter-widgets/base",
            "_view_module_version": "1.2.0",
            "_view_name": "LayoutView",
            "align_content": null,
            "align_items": null,
            "align_self": null,
            "border": null,
            "bottom": null,
            "display": null,
            "flex": null,
            "flex_flow": null,
            "grid_area": null,
            "grid_auto_columns": null,
            "grid_auto_flow": null,
            "grid_auto_rows": null,
            "grid_column": null,
            "grid_gap": null,
            "grid_row": null,
            "grid_template_areas": null,
            "grid_template_columns": null,
            "grid_template_rows": null,
            "height": null,
            "justify_content": null,
            "justify_items": null,
            "left": null,
            "margin": null,
            "max_height": null,
            "max_width": null,
            "min_height": null,
            "min_width": null,
            "object_fit": null,
            "object_position": null,
            "order": null,
            "overflow": null,
            "overflow_x": null,
            "overflow_y": null,
            "padding": null,
            "right": null,
            "top": null,
            "visibility": null,
            "width": null
          }
        },
        "2d14cada25af430da0c02c375239b967": {
          "model_module": "@jupyter-widgets/base",
          "model_module_version": "1.2.0",
          "model_name": "LayoutModel",
          "state": {
            "_model_module": "@jupyter-widgets/base",
            "_model_module_version": "1.2.0",
            "_model_name": "LayoutModel",
            "_view_count": null,
            "_view_module": "@jupyter-widgets/base",
            "_view_module_version": "1.2.0",
            "_view_name": "LayoutView",
            "align_content": null,
            "align_items": null,
            "align_self": null,
            "border": null,
            "bottom": null,
            "display": null,
            "flex": null,
            "flex_flow": null,
            "grid_area": null,
            "grid_auto_columns": null,
            "grid_auto_flow": null,
            "grid_auto_rows": null,
            "grid_column": null,
            "grid_gap": null,
            "grid_row": null,
            "grid_template_areas": null,
            "grid_template_columns": null,
            "grid_template_rows": null,
            "height": null,
            "justify_content": null,
            "justify_items": null,
            "left": null,
            "margin": null,
            "max_height": null,
            "max_width": null,
            "min_height": null,
            "min_width": null,
            "object_fit": null,
            "object_position": null,
            "order": null,
            "overflow": null,
            "overflow_x": null,
            "overflow_y": null,
            "padding": null,
            "right": null,
            "top": null,
            "visibility": null,
            "width": null
          }
        },
        "337e5d813a43485392adfc707adb7c7c": {
          "model_module": "@jupyter-widgets/controls",
          "model_module_version": "1.5.0",
          "model_name": "HBoxModel",
          "state": {
            "_dom_classes": [],
            "_model_module": "@jupyter-widgets/controls",
            "_model_module_version": "1.5.0",
            "_model_name": "HBoxModel",
            "_view_count": null,
            "_view_module": "@jupyter-widgets/controls",
            "_view_module_version": "1.5.0",
            "_view_name": "HBoxView",
            "box_style": "",
            "children": [
              "IPY_MODEL_29d823b7ed2d40eab3f86e4f642e1bd8",
              "IPY_MODEL_c551cdebb41748f29a49966014ed28f8"
            ],
            "layout": "IPY_MODEL_cf64f1a9250643b98f7bb667f4354089"
          }
        },
        "5fe3df8364794f4ab4b466cd7ded30e7": {
          "model_module": "@jupyter-widgets/controls",
          "model_module_version": "1.5.0",
          "model_name": "ButtonStyleModel",
          "state": {
            "_model_module": "@jupyter-widgets/controls",
            "_model_module_version": "1.5.0",
            "_model_name": "ButtonStyleModel",
            "_view_count": null,
            "_view_module": "@jupyter-widgets/base",
            "_view_module_version": "1.2.0",
            "_view_name": "StyleView",
            "button_color": null,
            "font_weight": ""
          }
        },
        "c551cdebb41748f29a49966014ed28f8": {
          "model_module": "@jupyter-widgets/controls",
          "model_module_version": "1.5.0",
          "model_name": "ImageModel",
          "state": {
            "_dom_classes": [],
            "_model_module": "@jupyter-widgets/controls",
            "_model_module_version": "1.5.0",
            "_model_name": "ImageModel",
            "_view_count": null,
            "_view_module": "@jupyter-widgets/controls",
            "_view_module_version": "1.5.0",
            "_view_name": "ImageView",
            "format": "png",
            "height": "",
            "layout": "IPY_MODEL_2b3341f3971742aca12751b500625c6a",
            "width": ""
          }
        },
        "cf64f1a9250643b98f7bb667f4354089": {
          "model_module": "@jupyter-widgets/base",
          "model_module_version": "1.2.0",
          "model_name": "LayoutModel",
          "state": {
            "_model_module": "@jupyter-widgets/base",
            "_model_module_version": "1.2.0",
            "_model_name": "LayoutModel",
            "_view_count": null,
            "_view_module": "@jupyter-widgets/base",
            "_view_module_version": "1.2.0",
            "_view_name": "LayoutView",
            "align_content": null,
            "align_items": null,
            "align_self": null,
            "border": null,
            "bottom": null,
            "display": null,
            "flex": null,
            "flex_flow": null,
            "grid_area": null,
            "grid_auto_columns": null,
            "grid_auto_flow": null,
            "grid_auto_rows": null,
            "grid_column": null,
            "grid_gap": null,
            "grid_row": null,
            "grid_template_areas": null,
            "grid_template_columns": null,
            "grid_template_rows": null,
            "height": null,
            "justify_content": null,
            "justify_items": null,
            "left": null,
            "margin": null,
            "max_height": null,
            "max_width": null,
            "min_height": null,
            "min_width": null,
            "object_fit": null,
            "object_position": null,
            "order": null,
            "overflow": null,
            "overflow_x": null,
            "overflow_y": null,
            "padding": null,
            "right": null,
            "top": null,
            "visibility": null,
            "width": null
          }
        }
      }
    }
  },
  "nbformat": 4,
  "nbformat_minor": 0
}
